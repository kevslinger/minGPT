{
 "cells": [
  {
   "cell_type": "markdown",
   "metadata": {},
   "source": [
    "## Train GPT on gym\n",
    "\n",
    "Train a GPT model on a dedicated addition dataset to see if a Transformer can learn to add."
   ]
  },
  {
   "cell_type": "code",
   "execution_count": 90,
   "metadata": {},
   "outputs": [],
   "source": [
    "# set up logging\n",
    "import logging\n",
    "logging.basicConfig(\n",
    "        format=\"%(asctime)s - %(levelname)s - %(name)s -   %(message)s\",\n",
    "        datefmt=\"%m/%d/%Y %H:%M:%S\",\n",
    "        level=logging.INFO,\n",
    ")"
   ]
  },
  {
   "cell_type": "code",
   "execution_count": 91,
   "metadata": {},
   "outputs": [],
   "source": [
    "# make deterministic\n",
    "from mingpt.utils import set_seed\n",
    "set_seed(42)"
   ]
  },
  {
   "cell_type": "code",
   "execution_count": 92,
   "metadata": {},
   "outputs": [],
   "source": [
    "import numpy as np\n",
    "import torch\n",
    "import torch.nn as nn\n",
    "from torch.nn import functional as F\n",
    "import matplotlib.pyplot as plt"
   ]
  },
  {
   "cell_type": "code",
   "execution_count": 93,
   "metadata": {},
   "outputs": [],
   "source": [
    "from torch.utils.data import Dataset\n",
    "import sys\n",
    "sys.path.append('../DRQN_pt')\n",
    "import gym, envs\n",
    "\n",
    "\n",
    "class GymDataset(Dataset):\n",
    "    \"\"\"\n",
    "    Returns addition problems of up to some number of digits in the inputs. Recall\n",
    "    that all GPT cares about are sequences of integers, and completing them according to\n",
    "    patterns in the data. Therefore, we have to somehow encode addition problems\n",
    "    as a sequence of integers.\n",
    "    \n",
    "    The sum of two n-digit numbers gives a third up to (n+1)-digit number. So our\n",
    "    encoding will simply be the n-digit first number, n-digit second number, \n",
    "    and (n+1)-digit result, all simply concatenated together. Because each addition\n",
    "    problem is so structured, there is no need to bother the model with encoding\n",
    "    +, =, or other tokens. Each possible sequence has the same length, and simply\n",
    "    contains the raw digits of the addition problem.\n",
    "    \n",
    "    As a few examples, the 2-digit problems:\n",
    "    - 85 + 50 = 135 becomes the sequence [8, 5, 5, 0, 1, 3, 5]\n",
    "    - 6 + 39 = 45 becomes the sequence [0, 6, 3, 9, 0, 4, 5]\n",
    "    etc.\n",
    "    \n",
    "    We will also only train GPT on the final (n+1)-digits because the first\n",
    "    two n-digits are always assumed to be given. So when we give GPT an exam later,\n",
    "    we will e.g. feed it the sequence [0, 6, 3, 9], which encodes that we'd like\n",
    "    to add 6 + 39, and hope that the model completes the integer sequence with [0, 4, 5]\n",
    "    in 3 sequential steps.\n",
    "    \n",
    "    fun exercise: does it help if the result is asked to be produced in reverse order?\n",
    "    \"\"\"\n",
    "\n",
    "    def __init__(self, split: str, env_name: str =\"DiscreteGridworld-v0\"):\n",
    "        self.env = gym.make(env_name)\n",
    "        self.split = split # train/test\n",
    "        self.vocab_size = 12 # 12 possible... -1 through 10\n",
    "        # TODO: should be env.action_space.shape[0] as well instead of 1\n",
    "        self.block_size = self.env.observation_space.shape[0] * 5 + 5 + 1\n",
    "        \n",
    "        # split up all addition problems into either training data or test data\n",
    "        # Let's start with 50k samples\n",
    "        # num = (10**self.ndigit)**2 # total number of possible combinations\n",
    "        # r = np.random.RandomState(1337) # make deterministic\n",
    "        # perm = r.permutation(num)\n",
    "        # num_test = min(int(num*0.2), 1000) # 20% of the whole dataset, or only up to 1000\n",
    "        # self.ixes = perm[:num_test] if split == 'test' else perm[num_test:]\n",
    "\n",
    "    def __len__(self):\n",
    "        #return self.ixes.size\n",
    "        return 50_000\n",
    "\n",
    "    def __getitem__(self, idx):\n",
    "        obs = self.env.reset()\n",
    "        history = []\n",
    "        for _ in range(5):\n",
    "            history.append(torch.tensor(obs.copy(), dtype=torch.long))\n",
    "            action = env.action_space.sample()\n",
    "            history.append(torch.tensor([action], dtype=torch.long))\n",
    "            obs, _, _, info = env.step(action)\n",
    "        history.append(torch.tensor(info['state'].copy(), dtype=torch.long))\n",
    "        h = torch.cat(([hist for hist in history]))\n",
    "        x = h[:-1]\n",
    "        y = h.clone()[1:]\n",
    "        y[:-2] = -100\n",
    "        return x, y\n",
    "\n",
    "        obs = torch.tensor(self.env.reset(), dtype=torch.long)\n",
    "        action = self.env.action_space.sample()\n",
    "        next_obs, _, _, _ = self.env.step(action)\n",
    "        x = torch.cat((obs, torch.tensor([action, next_obs[0]], dtype=torch.long)))\n",
    "        y = torch.cat((torch.tensor([-100, -100], dtype=torch.long), torch.tensor(next_obs, dtype=torch.long)))\n",
    "        return x, y\n",
    "\n"
   ]
  },
  {
   "cell_type": "code",
   "execution_count": 94,
   "metadata": {},
   "outputs": [],
   "source": [
    "train_dataset = GymDataset(split='train', env_name='DiscreteHorseshoe-v0')\n",
    "test_dataset = GymDataset(split='test', env_name='DiscreteHorseshoe-v0')"
   ]
  },
  {
   "cell_type": "code",
   "execution_count": 6,
   "metadata": {},
   "outputs": [],
   "source": [
    "env = gym.make('DiscreteFrame-v0')"
   ]
  },
  {
   "cell_type": "code",
   "execution_count": 7,
   "metadata": {},
   "outputs": [
    {
     "data": {
      "text/plain": [
       "array([8, 5])"
      ]
     },
     "execution_count": 7,
     "metadata": {},
     "output_type": "execute_result"
    }
   ],
   "source": [
    "env.reset()"
   ]
  },
  {
   "cell_type": "code",
   "execution_count": 8,
   "metadata": {},
   "outputs": [
    {
     "data": {
      "text/plain": [
       "(array([11, 11]), -1.0, False, {'state': array([7, 5])})"
      ]
     },
     "execution_count": 8,
     "metadata": {},
     "output_type": "execute_result"
    }
   ],
   "source": [
    "env.step(2)"
   ]
  },
  {
   "cell_type": "code",
   "execution_count": 9,
   "metadata": {},
   "outputs": [],
   "source": [
    "#env.render()"
   ]
  },
  {
   "cell_type": "code",
   "execution_count": 95,
   "metadata": {},
   "outputs": [
    {
     "data": {
      "text/plain": [
       "(tensor([ 9,  4,  0,  8,  6,  0,  8,  7,  2, 11, 11,  3,  8,  7,  3,  9]),\n",
       " tensor([-100, -100, -100, -100, -100, -100, -100, -100, -100, -100, -100, -100,\n",
       "         -100, -100,    9,    7]))"
      ]
     },
     "execution_count": 95,
     "metadata": {},
     "output_type": "execute_result"
    }
   ],
   "source": [
    "train_dataset[190] # sample a training instance just to see what one raw example looks like"
   ]
  },
  {
   "cell_type": "code",
   "execution_count": 96,
   "metadata": {},
   "outputs": [
    {
     "name": "stderr",
     "output_type": "stream",
     "text": [
      "01/04/2022 17:19:58 - INFO - mingpt.model -   number of parameters: 4.019200e+05\n"
     ]
    }
   ],
   "source": [
    "from mingpt.model import GPT, GPTConfig, GPT1Config\n",
    "\n",
    "# initialize a baby GPT model\n",
    "mconf = GPTConfig(train_dataset.vocab_size, train_dataset.block_size, \n",
    "                  n_layer=2, n_head=4, n_embd=128)\n",
    "model = GPT(mconf)"
   ]
  },
  {
   "cell_type": "code",
   "execution_count": 97,
   "metadata": {},
   "outputs": [
    {
     "name": "stderr",
     "output_type": "stream",
     "text": [
      "epoch 1 iter 97: train loss 0.60269. lr 5.999909e-04: 100%|██████████| 98/98 [00:05<00:00, 16.45it/s]\n",
      "01/04/2022 17:20:10 - INFO - mingpt.trainer -   test loss: 0.561257\n",
      "01/04/2022 17:20:10 - INFO - mingpt.trainer -   saving horseshoe_ckpt.pt\n",
      "epoch 2 iter 97: train loss 0.41162. lr 5.999634e-04: 100%|██████████| 98/98 [00:06<00:00, 15.83it/s]\n",
      "01/04/2022 17:20:23 - INFO - mingpt.trainer -   test loss: 0.332994\n",
      "01/04/2022 17:20:23 - INFO - mingpt.trainer -   saving horseshoe_ckpt.pt\n",
      "epoch 3 iter 97: train loss 0.37379. lr 5.999173e-04: 100%|██████████| 98/98 [00:05<00:00, 16.79it/s]\n",
      "01/04/2022 17:20:34 - INFO - mingpt.trainer -   test loss: 0.296064\n",
      "01/04/2022 17:20:34 - INFO - mingpt.trainer -   saving horseshoe_ckpt.pt\n",
      "epoch 4 iter 97: train loss 0.34978. lr 5.998527e-04: 100%|██████████| 98/98 [00:05<00:00, 16.38it/s]\n",
      "01/04/2022 17:20:46 - INFO - mingpt.trainer -   test loss: 0.282192\n",
      "01/04/2022 17:20:46 - INFO - mingpt.trainer -   saving horseshoe_ckpt.pt\n",
      "epoch 5 iter 97: train loss 0.29125. lr 5.997696e-04: 100%|██████████| 98/98 [00:05<00:00, 16.55it/s]\n",
      "01/04/2022 17:20:58 - INFO - mingpt.trainer -   test loss: 0.265187\n",
      "01/04/2022 17:20:58 - INFO - mingpt.trainer -   saving horseshoe_ckpt.pt\n",
      "epoch 6 iter 97: train loss 0.30904. lr 5.996681e-04: 100%|██████████| 98/98 [00:05<00:00, 16.61it/s]\n",
      "01/04/2022 17:21:10 - INFO - mingpt.trainer -   test loss: 0.256390\n",
      "01/04/2022 17:21:10 - INFO - mingpt.trainer -   saving horseshoe_ckpt.pt\n",
      "epoch 7 iter 97: train loss 0.30473. lr 5.995480e-04: 100%|██████████| 98/98 [00:05<00:00, 16.52it/s]\n",
      "01/04/2022 17:21:22 - INFO - mingpt.trainer -   test loss: 0.256814\n",
      "epoch 8 iter 97: train loss 0.29246. lr 5.994095e-04: 100%|██████████| 98/98 [00:05<00:00, 16.65it/s]\n",
      "01/04/2022 17:21:33 - INFO - mingpt.trainer -   test loss: 0.247313\n",
      "01/04/2022 17:21:33 - INFO - mingpt.trainer -   saving horseshoe_ckpt.pt\n",
      "epoch 9 iter 97: train loss 0.26429. lr 5.992525e-04: 100%|██████████| 98/98 [00:05<00:00, 16.69it/s]\n",
      "01/04/2022 17:21:45 - INFO - mingpt.trainer -   test loss: 0.245561\n",
      "01/04/2022 17:21:45 - INFO - mingpt.trainer -   saving horseshoe_ckpt.pt\n",
      "epoch 10 iter 97: train loss 0.27979. lr 5.990770e-04: 100%|██████████| 98/98 [00:05<00:00, 16.43it/s]\n",
      "01/04/2022 17:21:57 - INFO - mingpt.trainer -   test loss: 0.240865\n",
      "01/04/2022 17:21:57 - INFO - mingpt.trainer -   saving horseshoe_ckpt.pt\n",
      "epoch 11 iter 97: train loss 0.27552. lr 5.988831e-04: 100%|██████████| 98/98 [00:06<00:00, 16.18it/s]\n",
      "01/04/2022 17:22:09 - INFO - mingpt.trainer -   test loss: 0.236630\n",
      "01/04/2022 17:22:09 - INFO - mingpt.trainer -   saving horseshoe_ckpt.pt\n",
      "epoch 12 iter 97: train loss 0.26852. lr 5.986708e-04: 100%|██████████| 98/98 [00:05<00:00, 16.34it/s]\n",
      "01/04/2022 17:22:21 - INFO - mingpt.trainer -   test loss: 0.233516\n",
      "01/04/2022 17:22:21 - INFO - mingpt.trainer -   saving horseshoe_ckpt.pt\n",
      "epoch 13 iter 97: train loss 0.26091. lr 5.984400e-04: 100%|██████████| 98/98 [00:05<00:00, 16.50it/s]\n",
      "01/04/2022 17:22:33 - INFO - mingpt.trainer -   test loss: 0.223436\n",
      "01/04/2022 17:22:33 - INFO - mingpt.trainer -   saving horseshoe_ckpt.pt\n",
      "epoch 14 iter 97: train loss 0.26072. lr 5.981908e-04: 100%|██████████| 98/98 [00:05<00:00, 16.66it/s]\n",
      "01/04/2022 17:22:44 - INFO - mingpt.trainer -   test loss: 0.231779\n",
      "epoch 15 iter 97: train loss 0.26993. lr 5.979233e-04: 100%|██████████| 98/98 [00:05<00:00, 16.35it/s]\n",
      "01/04/2022 17:22:56 - INFO - mingpt.trainer -   test loss: 0.223109\n",
      "01/04/2022 17:22:56 - INFO - mingpt.trainer -   saving horseshoe_ckpt.pt\n",
      "epoch 16 iter 97: train loss 0.25001. lr 5.976373e-04: 100%|██████████| 98/98 [00:05<00:00, 16.45it/s]\n",
      "01/04/2022 17:23:08 - INFO - mingpt.trainer -   test loss: 0.213489\n",
      "01/04/2022 17:23:08 - INFO - mingpt.trainer -   saving horseshoe_ckpt.pt\n",
      "epoch 17 iter 97: train loss 0.26014. lr 5.973330e-04: 100%|██████████| 98/98 [00:06<00:00, 16.31it/s]\n",
      "01/04/2022 17:23:20 - INFO - mingpt.trainer -   test loss: 0.211927\n",
      "01/04/2022 17:23:20 - INFO - mingpt.trainer -   saving horseshoe_ckpt.pt\n",
      "epoch 18 iter 97: train loss 0.24964. lr 5.970103e-04: 100%|██████████| 98/98 [00:05<00:00, 16.41it/s]\n",
      "01/04/2022 17:23:32 - INFO - mingpt.trainer -   test loss: 0.210847\n",
      "01/04/2022 17:23:32 - INFO - mingpt.trainer -   saving horseshoe_ckpt.pt\n",
      "epoch 19 iter 97: train loss 0.26285. lr 5.966694e-04: 100%|██████████| 98/98 [00:05<00:00, 16.51it/s]\n",
      "01/04/2022 17:23:44 - INFO - mingpt.trainer -   test loss: 0.211659\n",
      "epoch 20 iter 97: train loss 0.24821. lr 5.963101e-04: 100%|██████████| 98/98 [00:05<00:00, 16.46it/s]\n",
      "01/04/2022 17:23:56 - INFO - mingpt.trainer -   test loss: 0.209971\n",
      "01/04/2022 17:23:56 - INFO - mingpt.trainer -   saving horseshoe_ckpt.pt\n"
     ]
    }
   ],
   "source": [
    "from mingpt.trainer import Trainer, TrainerConfig\n",
    "\n",
    "# initialize a trainer instance and kick off training\n",
    "tconf = TrainerConfig(max_epochs=20, batch_size=512, learning_rate=6e-4,\n",
    "                      lr_decay=True, warmup_tokens=1024, final_tokens=50*len(train_dataset)*(16),\n",
    "                      ckpt_path='horseshoe_ckpt.pt', num_workers=4)\n",
    "trainer = Trainer(model, train_dataset, test_dataset, tconf)\n",
    "trainer.train()"
   ]
  },
  {
   "cell_type": "code",
   "execution_count": 13,
   "metadata": {},
   "outputs": [
    {
     "data": {
      "text/plain": [
       "<All keys matched successfully>"
      ]
     },
     "execution_count": 13,
     "metadata": {},
     "output_type": "execute_result"
    }
   ],
   "source": [
    "checkpoint = torch.load('gym_ckpt.pt')\n",
    "model.load_state_dict(checkpoint)"
   ]
  },
  {
   "cell_type": "code",
   "execution_count": 129,
   "metadata": {},
   "outputs": [
    {
     "data": {
      "text/plain": [
       "tensor([[ 5,  5,  1,  5,  4,  1, 11, 11,  3, 11, 11,  3, 11, 11,  0,  7]],\n",
       "       device='cuda:0')"
      ]
     },
     "execution_count": 129,
     "metadata": {},
     "output_type": "execute_result"
    }
   ],
   "source": [
    "from mingpt.utils import sample\n",
    "history = np.array([5, 5, 1, 5, 4, 1, 11, 11, 3, 11, 11, 3, 11, 11, 0])\n",
    "sample(model, torch.tensor(history, dtype=torch.long, device=trainer.device)[None, ...], 1)"
   ]
  },
  {
   "cell_type": "code",
   "execution_count": 123,
   "metadata": {},
   "outputs": [
    {
     "data": {
      "text/plain": [
       "array([ 1.2270921 ,  1.1932425 ,  0.17198586,  0.34915292, -0.84308946,\n",
       "        0.92391276,  0.413939  , -0.03974581,  1.4339856 ,  0.88868093,\n",
       "        0.8276882 ,  2.9388783 ,  0.71869373,  0.7343292 ,  0.1599412 ,\n",
       "        2.3281765 ], dtype=float32)"
      ]
     },
     "execution_count": 123,
     "metadata": {},
     "output_type": "execute_result"
    }
   ],
   "source": [
    "model.blocks[0].outputs['attention'].squeeze().T.cpu().numpy().sum(axis=0)"
   ]
  },
  {
   "cell_type": "code",
   "execution_count": 131,
   "metadata": {},
   "outputs": [
    {
     "data": {
      "image/png": "[encoded data removed]",
      "text/plain": [
       "<Figure size 432x288 with 1 Axes>"
      ]
     },
     "metadata": {
      "needs_background": "light"
     },
     "output_type": "display_data"
    }
   ],
   "source": [
    "#fig, axs = plt.subplots(nrows=2, sharex=True)\n",
    "seq_len = 15\n",
    "fig, ax = plt.subplots()\n",
    "for i in range(1):\n",
    "    attn = model.blocks[i].outputs['attention'].squeeze().T.cpu().numpy().sum(axis=0)\n",
    "    ax.scatter(range(seq_len), attn)\n",
    "    for j in range(0, len(attn), 3):\n",
    "        if len(attn[j:j+3]) < 3:\n",
    "            continue\n",
    "        ax.plot(range(j, j+3), attn[j:j+3], c='tab:blue')\n",
    "#ax.plot(range(3, 6), attn[3:6], c='tab:blue')\n",
    "ax.set_xticks(range(seq_len))\n",
    "ax.set_xticklabels(['(5,', '5)', '1', '(5,', '4)', '1', '(-1,', '-1)', '3', '(-1,', '-1)', '3', '(-1,', '-1)', '0'])\n",
    "plt.show()"
   ]
  },
  {
   "cell_type": "code",
   "execution_count": 41,
   "metadata": {},
   "outputs": [
    {
     "data": {
      "text/plain": [
       "array([ 0.24354684,  0.24462736,  0.22080696,  1.5651207 ,  1.9733088 ,\n",
       "        1.8581808 ,  0.8155133 , -0.48296237,  2.5775948 ,  3.0177174 ,\n",
       "        2.9929147 , -0.09368896,  3.0635016 ,  3.1225886 ,  1.9389458 ,\n",
       "        0.85987616], dtype=float32)"
      ]
     },
     "execution_count": 41,
     "metadata": {},
     "output_type": "execute_result"
    }
   ],
   "source": [
    "model.blocks[0].outputs['mlp'].squeeze().T.cpu().numpy().sum(axis=0)"
   ]
  },
  {
   "cell_type": "code",
   "execution_count": 38,
   "metadata": {},
   "outputs": [
    {
     "data": {
      "text/plain": [
       "array([ 1.959651  ,  1.8339162 ,  2.0441227 ,  3.0658896 ,  3.3538513 ,\n",
       "        1.7241983 ,  2.6646807 ,  1.6031058 , -2.5267706 ,  0.8638041 ,\n",
       "        1.0844204 , -1.8708265 ,  0.7843232 ,  1.151099  , -0.08955133,\n",
       "       -6.7240005 ], dtype=float32)"
      ]
     },
     "execution_count": 38,
     "metadata": {},
     "output_type": "execute_result"
    }
   ],
   "source": [
    "model.blocks[1].outputs['attention'].squeeze().T.cpu().numpy().sum(axis=0)"
   ]
  },
  {
   "cell_type": "code",
   "execution_count": 42,
   "metadata": {},
   "outputs": [
    {
     "data": {
      "text/plain": [
       "array([-2.3619685 , -2.5210905 , -2.75309   , -0.5954666 ,  0.3862114 ,\n",
       "        0.52429676, -1.2816153 ,  0.40455627, -6.024131  , -8.104212  ,\n",
       "       -8.785734  , -1.4268901 , -8.68998   , -9.225517  , -5.395953  ,\n",
       "       -4.588853  ], dtype=float32)"
      ]
     },
     "execution_count": 42,
     "metadata": {},
     "output_type": "execute_result"
    }
   ],
   "source": [
    "model.blocks[1].outputs['mlp'].squeeze().T.cpu().numpy().sum(axis=0)"
   ]
  },
  {
   "cell_type": "code",
   "execution_count": 33,
   "metadata": {},
   "outputs": [
    {
     "data": {
      "text/plain": [
       "<matplotlib.image.AxesImage at 0x7fe72b746940>"
      ]
     },
     "execution_count": 33,
     "metadata": {},
     "output_type": "execute_result"
    },
    {
     "data": {
      "image/png": "[encoded data removed]",
      "text/plain": [
       "<Figure size 432x288 with 2 Axes>"
      ]
     },
     "metadata": {
      "needs_background": "light"
     },
     "output_type": "display_data"
    }
   ],
   "source": [
    "figs, axs = plt.subplots(1, 2)\n",
    "axs[0].imshow(model.blocks[0].outputs['attention'].squeeze().T.cpu().numpy())\n",
    "axs[1].imshow(model.blocks[1].outputs['attention'].squeeze().T.cpu().numpy())"
   ]
  },
  {
   "cell_type": "code",
   "execution_count": null,
   "metadata": {},
   "outputs": [],
   "source": []
  },
  {
   "cell_type": "code",
   "execution_count": 18,
   "metadata": {},
   "outputs": [
    {
     "name": "stdout",
     "output_type": "stream",
     "text": [
      "Predicted [5 2] but was [6 7]. Full sequence: tensor([[11, 11,  1, 11, 11,  2, 11, 11,  1, 11, 11,  0, 11, 11,  2,  5,  2]],\n",
      "       device='cuda:0')\n",
      "Predicted [1 5] but was [6 5]. Full sequence: tensor([[11, 11,  3, 11, 11,  2, 11, 11,  1, 11, 11,  1, 11, 11,  1,  1,  5]],\n",
      "       device='cuda:0')\n",
      "Predicted [1 1] but was [7 2]. Full sequence: tensor([[ 9,  3,  2, 11, 11,  2, 11, 11,  1, 11, 11,  0, 11, 11,  1,  1,  1]],\n",
      "       device='cuda:0')\n",
      "Predicted [0 2] but was [5 7]. Full sequence: tensor([[11, 11,  0, 11, 11,  3, 11, 11,  1, 11, 11,  2, 11, 11,  2,  0,  2]],\n",
      "       device='cuda:0')\n",
      "Predicted [1 3] but was [1 8]. Full sequence: tensor([[ 3,  5,  0, 11, 11,  0, 11, 11,  2, 11, 11,  2, 11, 11,  0,  1,  3]],\n",
      "       device='cuda:0')\n",
      "Predicted [3 7] but was [7 7]. Full sequence: tensor([[ 6,  9,  1, 11, 11,  1, 11, 11,  1, 11, 11,  3, 11, 11,  0,  3,  7]],\n",
      "       device='cuda:0')\n",
      "Predicted [0 2] but was [3 4]. Full sequence: tensor([[ 4,  6,  1, 11, 11,  3, 11, 11,  1, 11, 11,  2, 11, 11,  2,  0,  2]],\n",
      "       device='cuda:0')\n",
      "Predicted [1 2] but was [1 3]. Full sequence: tensor([[ 4,  3,  2, 11, 11,  2, 11, 11,  1, 11, 11,  2, 11, 11,  0,  1,  2]],\n",
      "       device='cuda:0')\n",
      "Predicted [3 6] but was [4 6]. Full sequence: tensor([[11, 11,  3, 11, 11,  0, 11, 11,  1, 11, 11,  1, 11, 11,  3,  3,  6]],\n",
      "       device='cuda:0')\n",
      "Predicted [2 2] but was [1 6]. Full sequence: tensor([[11, 11,  3, 11, 11,  2, 11, 11,  3, 11, 11,  1, 11, 11,  2,  2,  2]],\n",
      "       device='cuda:0')\n",
      "Predicted [7 1] but was [2 7]. Full sequence: tensor([[11, 11,  0, 11, 11,  3, 11, 11,  2, 11, 11,  2, 11, 11,  3,  7,  1]],\n",
      "       device='cuda:0')\n",
      "Predicted [3 7] but was [8 2]. Full sequence: tensor([[ 7,  4,  1, 11, 11,  1, 11, 11,  3, 11, 11,  1, 11, 11,  0,  3,  7]],\n",
      "       device='cuda:0')\n",
      "Predicted [2 1] but was [1 5]. Full sequence: tensor([[11, 11,  3, 11, 11,  2, 11, 11,  0, 11, 11,  1, 11, 11,  1,  2,  1]],\n",
      "       device='cuda:0')\n",
      "Predicted [3 6] but was [8 6]. Full sequence: tensor([[11, 11,  1, 11, 11,  0, 11, 11,  1, 11, 11,  1, 11, 11,  3,  3,  6]],\n",
      "       device='cuda:0')\n",
      "Predicted [0 2] but was [1 7]. Full sequence: tensor([[ 4,  7,  2, 11, 11,  0, 11, 11,  1, 11, 11,  2, 11, 11,  2,  0,  2]],\n",
      "       device='cuda:0')\n",
      "Predicted [2 2] but was [7 2]. Full sequence: tensor([[11, 11,  1, 11, 11,  3, 11, 11,  0, 11, 11,  1, 11, 11,  2,  2,  2]],\n",
      "       device='cuda:0')\n",
      "Predicted [1 3] but was [2 2]. Full sequence: tensor([[ 3,  0,  0, 11, 11,  0, 11, 11,  2, 11, 11,  3, 11, 11,  2,  1,  3]],\n",
      "       device='cuda:0')\n",
      "Predicted [9 3] but was [4 8]. Full sequence: tensor([[11, 11,  3, 11, 11,  1, 11, 11,  0, 11, 11,  3, 11, 11,  3,  9,  3]],\n",
      "       device='cuda:0')\n",
      "Predicted [7 3] but was [7 8]. Full sequence: tensor([[11, 11,  2, 11, 11,  0, 11, 11,  3, 11, 11,  2, 11, 11,  0,  7,  3]],\n",
      "       device='cuda:0')\n",
      "Predicted [9 3] but was [3 8]. Full sequence: tensor([[11, 11,  1, 11, 11,  0, 11, 11,  2, 11, 11,  3, 11, 11,  3,  9,  3]],\n",
      "       device='cuda:0')\n",
      "Predicted [2 2] but was [4 4]. Full sequence: tensor([[11, 11,  3, 11, 11,  1, 11, 11,  0, 11, 11,  2, 11, 11,  1,  2,  2]],\n",
      "       device='cuda:0')\n",
      "Predicted [7 2] but was [1 8]. Full sequence: tensor([[11, 11,  0, 11, 11,  1, 11, 11,  3, 11, 11,  0, 11, 11,  2,  7,  2]],\n",
      "       device='cuda:0')\n",
      "Predicted [1 0] but was [6 0]. Full sequence: tensor([[ 7,  0,  0, 11, 11,  3, 11, 11,  2, 11, 11,  2, 11, 11,  1,  1,  0]],\n",
      "       device='cuda:0')\n",
      "Predicted [6 5] but was [6 6]. Full sequence: tensor([[ 9,  8,  2, 11, 11,  1, 11, 11,  2, 11, 11,  2, 11, 11,  1,  6,  5]],\n",
      "       device='cuda:0')\n",
      "Predicted [2 3] but was [1 8]. Full sequence: tensor([[11, 11,  3, 11, 11,  2, 11, 11,  3, 11, 11,  0, 11, 11,  2,  2,  3]],\n",
      "       device='cuda:0')\n",
      "Predicted [3 0] but was [5 3]. Full sequence: tensor([[ 3,  4,  3, 11, 11,  0, 11, 11,  1, 11, 11,  3, 11, 11,  1,  3,  0]],\n",
      "       device='cuda:0')\n",
      "Predicted [3 1] but was [7 6]. Full sequence: tensor([[ 5,  7,  3, 11, 11,  1, 11, 11,  3, 11, 11,  2, 11, 11,  3,  3,  1]],\n",
      "       device='cuda:0')\n",
      "Predicted [2 3] but was [6 8]. Full sequence: tensor([[11, 11,  1, 11, 11,  2, 11, 11,  0, 11, 11,  3, 11, 11,  2,  2,  3]],\n",
      "       device='cuda:0')\n",
      "Predicted [1 5] but was [8 5]. Full sequence: tensor([[11, 11,  1, 11, 11,  0, 11, 11,  1, 11, 11,  1, 11, 11,  1,  1,  5]],\n",
      "       device='cuda:0')\n",
      "Predicted [3 3] but was [2 7]. Full sequence: tensor([[11, 11,  2, 11, 11,  3, 11, 11,  0, 11, 11,  2, 11, 11,  3,  3,  3]],\n",
      "       device='cuda:0')\n",
      "Predicted [2 3] but was [2 2]. Full sequence: tensor([[11, 11,  1, 11, 11,  0, 11, 11,  2, 11, 11,  1, 11, 11,  0,  2,  3]],\n",
      "       device='cuda:0')\n",
      "Predicted [0 2] but was [5 8]. Full sequence: tensor([[11, 11,  0, 11, 11,  1, 11, 11,  2, 11, 11,  0, 11, 11,  2,  0,  2]],\n",
      "       device='cuda:0')\n",
      "Predicted [2 2] but was [6 7]. Full sequence: tensor([[11, 11,  0, 11, 11,  3, 11, 11,  2, 11, 11,  0, 11, 11,  1,  2,  2]],\n",
      "       device='cuda:0')\n",
      "Predicted [2 7] but was [7 2]. Full sequence: tensor([[11, 11,  1, 11, 11,  0, 11, 11,  1, 11, 11,  0, 11, 11,  2,  2,  7]],\n",
      "       device='cuda:0')\n",
      "Predicted [3 1] but was [7 7]. Full sequence: tensor([[11, 11,  3, 11, 11,  2, 11, 11,  3, 11, 11,  2, 11, 11,  3,  3,  1]],\n",
      "       device='cuda:0')\n",
      "Predicted [2 0] but was [2 1]. Full sequence: tensor([[11, 11,  0, 11, 11,  2, 11, 11,  1, 11, 11,  3, 11, 11,  1,  2,  0]],\n",
      "       device='cuda:0')\n",
      "Predicted [2 5] but was [7 6]. Full sequence: tensor([[ 7,  9,  1, 11, 11,  1, 11, 11,  3, 11, 11,  2, 11, 11,  1,  2,  5]],\n",
      "       device='cuda:0')\n",
      "Predicted [3 1] but was [2 1]. Full sequence: tensor([[11, 11,  2, 11, 11,  1, 11, 11,  3, 11, 11,  2, 11, 11,  3,  3,  1]],\n",
      "       device='cuda:0')\n",
      "Predicted [3 7] but was [2 8]. Full sequence: tensor([[11, 11,  0, 11, 11,  0, 11, 11,  1, 11, 11,  0, 11, 11,  3,  3,  7]],\n",
      "       device='cuda:0')\n",
      "Predicted [0 3] but was [5 3]. Full sequence: tensor([[11, 11,  1, 11, 11,  0, 11, 11,  3, 11, 11,  2, 11, 11,  2,  0,  3]],\n",
      "       device='cuda:0')\n",
      "Predicted [3 2] but was [3 7]. Full sequence: tensor([[ 4,  7,  2, 11, 11,  0, 11, 11,  2, 11, 11,  1, 11, 11,  3,  3,  2]],\n",
      "       device='cuda:0')\n",
      "Predicted [7 3] but was [2 7]. Full sequence: tensor([[ 3,  5,  0, 11, 11,  0, 11, 11,  2, 11, 11,  2, 11, 11,  3,  7,  3]],\n",
      "       device='cuda:0')\n",
      "Predicted [3 3] but was [8 8]. Full sequence: tensor([[ 5,  8,  3, 11, 11,  3, 11, 11,  3, 11, 11,  1, 11, 11,  0,  3,  3]],\n",
      "       device='cuda:0')\n",
      "Predicted [1 0] but was [6 6]. Full sequence: tensor([[11, 11,  2, 11, 11,  3, 11, 11,  2, 11, 11,  2, 11, 11,  1,  1,  0]],\n",
      "       device='cuda:0')\n",
      "Predicted [9 1] but was [9 3]. Full sequence: tensor([[11, 11,  0, 11, 11,  3, 11, 11,  2, 11, 11,  3, 11, 11,  3,  9,  1]],\n",
      "       device='cuda:0')\n",
      "Predicted [5 3] but was [5 2]. Full sequence: tensor([[ 9,  1,  2, 11, 11,  2, 11, 11,  2, 11, 11,  0, 11, 11,  2,  5,  3]],\n",
      "       device='cuda:0')\n",
      "Predicted [2 3] but was [6 7]. Full sequence: tensor([[11, 11,  1, 11, 11,  2, 11, 11,  3, 11, 11,  0, 11, 11,  2,  2,  3]],\n",
      "       device='cuda:0')\n",
      "Predicted [9 3] but was [4 3]. Full sequence: tensor([[11, 11,  2, 11, 11,  1, 11, 11,  0, 11, 11,  3, 11, 11,  3,  9,  3]],\n",
      "       device='cuda:0')\n",
      "Predicted [1 1] but was [6 2]. Full sequence: tensor([[11, 11,  2, 11, 11,  2, 11, 11,  1, 11, 11,  0, 11, 11,  1,  1,  1]],\n",
      "       device='cuda:0')\n",
      "Predicted [3 2] but was [8 2]. Full sequence: tensor([[11, 11,  0, 11, 11,  2, 11, 11,  3, 11, 11,  1, 11, 11,  3,  3,  2]],\n",
      "       device='cuda:0')\n",
      "Predicted [2 7] but was [1 3]. Full sequence: tensor([[11, 11,  2, 11, 11,  0, 11, 11,  1, 11, 11,  0, 11, 11,  2,  2,  7]],\n",
      "       device='cuda:0')\n",
      "Predicted [3 2] but was [7 7]. Full sequence: tensor([[ 6,  5,  0, 11, 11,  3, 11, 11,  0, 11, 11,  0, 11, 11,  1,  3,  2]],\n",
      "       device='cuda:0')\n",
      "Predicted [8 3] but was [8 2]. Full sequence: tensor([[11, 11,  0,  8,  4,  1, 11, 11,  1, 11, 11,  1, 11, 11,  0,  8,  3]],\n",
      "       device='cuda:0')\n",
      "Final score: 89.40%!\n"
     ]
    }
   ],
   "source": [
    "env = gym.make('DiscreteTargets-v0')\n",
    "def test_model(test_len=500):\n",
    "    num_correct = 0\n",
    "    for _ in range(test_len):\n",
    "        obs = env.reset()\n",
    "        history = []\n",
    "        for i in range(5):\n",
    "            history.append(torch.tensor(obs.copy(), dtype=torch.long))\n",
    "            action = env.action_space.sample()\n",
    "            obs, _, _, info = env.step(action)\n",
    "            history.append(torch.tensor([action], dtype=torch.long))\n",
    "        result = sample(model, torch.cat(([hist for hist in history])).to(trainer.device)[None, ...], 2)\n",
    "        pred_state = result.squeeze()[-2:].cpu().numpy()\n",
    "        if np.array_equal(info['state'], pred_state):\n",
    "            num_correct += 1\n",
    "            #print(f\"Predicted {pred_state} and was {info['state']}. Full sequence: {result}\")\n",
    "        else:\n",
    "            #pass\n",
    "            print(f\"Predicted {pred_state} but was {info['state']}. Full sequence: {result}\")\n",
    "    print(f\"Final score: {(100*num_correct/test_len):.2f}%!\")\n",
    "test_model()"
   ]
  },
  {
   "cell_type": "code",
   "execution_count": 26,
   "metadata": {},
   "outputs": [
    {
     "data": {
      "image/png": "[encoded data removed]",
      "text/plain": [
       "<Figure size 432x288 with 1 Axes>"
      ]
     },
     "metadata": {
      "needs_background": "light"
     },
     "output_type": "display_data"
    }
   ],
   "source": [
    "import matplotlib.pyplot as plt\n",
    "embeds = model.pos_emb.data[0].cpu().numpy()\n",
    "fig, ax = plt.subplots()\n",
    "im = ax.imshow(embeds)\n",
    "plt.show()"
   ]
  },
  {
   "cell_type": "code",
   "execution_count": 17,
   "metadata": {},
   "outputs": [],
   "source": [
    "env = gym.make('DiscreteHorseshoe-v0')"
   ]
  },
  {
   "cell_type": "code",
   "execution_count": 18,
   "metadata": {},
   "outputs": [
    {
     "ename": "AssertionError",
     "evalue": "Cannot call env.step() before calling reset()",
     "output_type": "error",
     "traceback": [
      "\u001b[0;31m---------------------------------------------------------------------------\u001b[0m",
      "\u001b[0;31mAssertionError\u001b[0m                            Traceback (most recent call last)",
      "\u001b[0;32m/tmp/ipykernel_238486/2998267062.py\u001b[0m in \u001b[0;36m<module>\u001b[0;34m\u001b[0m\n\u001b[0;32m----> 1\u001b[0;31m \u001b[0menv\u001b[0m\u001b[0;34m.\u001b[0m\u001b[0mstep\u001b[0m\u001b[0;34m(\u001b[0m\u001b[0;36m0\u001b[0m\u001b[0;34m)\u001b[0m\u001b[0;34m\u001b[0m\u001b[0;34m\u001b[0m\u001b[0m\n\u001b[0m",
      "\u001b[0;32m~/Development/gym/gym/wrappers/time_limit.py\u001b[0m in \u001b[0;36mstep\u001b[0;34m(self, action)\u001b[0m\n\u001b[1;32m     15\u001b[0m \u001b[0;34m\u001b[0m\u001b[0m\n\u001b[1;32m     16\u001b[0m     \u001b[0;32mdef\u001b[0m \u001b[0mstep\u001b[0m\u001b[0;34m(\u001b[0m\u001b[0mself\u001b[0m\u001b[0;34m,\u001b[0m \u001b[0maction\u001b[0m\u001b[0;34m)\u001b[0m\u001b[0;34m:\u001b[0m\u001b[0;34m\u001b[0m\u001b[0;34m\u001b[0m\u001b[0m\n\u001b[0;32m---> 17\u001b[0;31m         assert (\n\u001b[0m\u001b[1;32m     18\u001b[0m             \u001b[0mself\u001b[0m\u001b[0;34m.\u001b[0m\u001b[0m_elapsed_steps\u001b[0m \u001b[0;32mis\u001b[0m \u001b[0;32mnot\u001b[0m \u001b[0;32mNone\u001b[0m\u001b[0;34m\u001b[0m\u001b[0;34m\u001b[0m\u001b[0m\n\u001b[1;32m     19\u001b[0m         ), \"Cannot call env.step() before calling reset()\"\n",
      "\u001b[0;31mAssertionError\u001b[0m: Cannot call env.step() before calling reset()"
     ]
    }
   ],
   "source": [
    "env.step(0)"
   ]
  },
  {
   "cell_type": "code",
   "execution_count": null,
   "metadata": {},
   "outputs": [
    {
     "data": {
      "text/plain": [
       "torch.Size([3])"
      ]
     },
     "execution_count": 28,
     "metadata": {},
     "output_type": "execute_result"
    }
   ],
   "source": [
    "x = torch.tensor([1, 2, 0], dtype=torch.long, device=trainer.device)\n",
    "x.shape"
   ]
  },
  {
   "cell_type": "code",
   "execution_count": null,
   "metadata": {},
   "outputs": [],
   "source": [
    "# now let's give the trained model an addition exam\n",
    "from torch.utils.data.dataloader import DataLoader\n",
    "from mingpt.utils import sample\n",
    "\n",
    "def give_exam(dataset, batch_size=32, max_batches=-1):\n",
    "    \n",
    "    results = []\n",
    "    loader = DataLoader(dataset, batch_size=batch_size)\n",
    "    for b, (x, y) in enumerate(loader):\n",
    "        x = x.to(trainer.device)\n",
    "        d1d2 = x[:, :ndigit*2]\n",
    "        d1d2d3 = sample(model, d1d2, ndigit+1)\n",
    "        d3 = d1d2d3[:, -(ndigit+1):]\n",
    "        factors = torch.tensor([[10**i for i in range(ndigit+1)][::-1]]).to(trainer.device)\n",
    "        # decode the integers from individual digits\n",
    "        d1i = (d1d2[:,:ndigit] * factors[:,1:]).sum(1)\n",
    "        d2i = (d1d2[:,ndigit:ndigit*2] * factors[:,1:]).sum(1)\n",
    "        d3i_pred = (d3 * factors).sum(1)\n",
    "        d3i_gt = d1i + d2i\n",
    "        correct = (d3i_pred == d3i_gt).cpu() # Software 1.0 vs. Software 2.0 fight RIGHT on this line, lol\n",
    "        for i in range(x.size(0)):\n",
    "            results.append(int(correct[i]))\n",
    "            judge = 'YEP!!!' if correct[i] else 'NOPE'\n",
    "            if not correct[i]:\n",
    "                print(\"GPT claims that %03d + %03d = %03d (gt is %03d; %s)\" \n",
    "                      % (d1i[i], d2i[i], d3i_pred[i], d3i_gt[i], judge))\n",
    "        \n",
    "        if max_batches >= 0 and b+1 >= max_batches:\n",
    "            break\n",
    "\n",
    "    print(\"final score: %d/%d = %.2f%% correct\" % (np.sum(results), len(results), 100*np.mean(results)))"
   ]
  },
  {
   "cell_type": "code",
   "execution_count": null,
   "metadata": {
    "scrolled": true
   },
   "outputs": [],
   "source": [
    "# training set: how well did we memorize?\n",
    "give_exam(train_dataset, batch_size=1024, max_batches=10)"
   ]
  },
  {
   "cell_type": "code",
   "execution_count": null,
   "metadata": {},
   "outputs": [],
   "source": [
    "# test set: how well did we generalize?\n",
    "give_exam(test_dataset, batch_size=1024, max_batches=-1)"
   ]
  },
  {
   "cell_type": "code",
   "execution_count": null,
   "metadata": {},
   "outputs": [],
   "source": [
    "# well that's amusing... our model learned everything except 55 + 45"
   ]
  }
 ],
 "metadata": {
  "kernelspec": {
   "display_name": "Python 3",
   "language": "python",
   "name": "python3"
  },
  "language_info": {
   "codemirror_mode": {
    "name": "ipython",
    "version": 3
   },
   "file_extension": ".py",
   "mimetype": "text/x-python",
   "name": "python",
   "nbconvert_exporter": "python",
   "pygments_lexer": "ipython3",
   "version": "3.8.10"
  }
 },
 "nbformat": 4,
 "nbformat_minor": 4
}
