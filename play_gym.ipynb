{
 "cells": [
  {
   "cell_type": "markdown",
   "metadata": {},
   "source": [
    "## Train GPT on gym\n",
    "\n",
    "Train a GPT model on a dedicated addition dataset to see if a Transformer can learn to add."
   ]
  },
  {
   "cell_type": "code",
   "execution_count": 1,
   "metadata": {},
   "outputs": [],
   "source": [
    "# set up logging\n",
    "import logging\n",
    "logging.basicConfig(\n",
    "        format=\"%(asctime)s - %(levelname)s - %(name)s -   %(message)s\",\n",
    "        datefmt=\"%m/%d/%Y %H:%M:%S\",\n",
    "        level=logging.INFO,\n",
    ")"
   ]
  },
  {
   "cell_type": "code",
   "execution_count": 2,
   "metadata": {},
   "outputs": [],
   "source": [
    "# make deterministic\n",
    "from mingpt.utils import set_seed\n",
    "set_seed(42)"
   ]
  },
  {
   "cell_type": "code",
   "execution_count": 3,
   "metadata": {},
   "outputs": [],
   "source": [
    "import numpy as np\n",
    "import torch\n",
    "import torch.nn as nn\n",
    "from torch.nn import functional as F"
   ]
  },
  {
   "cell_type": "code",
   "execution_count": 4,
   "metadata": {},
   "outputs": [],
   "source": [
    "from torch.utils.data import Dataset\n",
    "import sys\n",
    "sys.path.append('../DRQN_pt')\n",
    "import gym, envs\n",
    "\n",
    "\n",
    "class GymDataset(Dataset):\n",
    "    \"\"\"\n",
    "    Returns addition problems of up to some number of digits in the inputs. Recall\n",
    "    that all GPT cares about are sequences of integers, and completing them according to\n",
    "    patterns in the data. Therefore, we have to somehow encode addition problems\n",
    "    as a sequence of integers.\n",
    "    \n",
    "    The sum of two n-digit numbers gives a third up to (n+1)-digit number. So our\n",
    "    encoding will simply be the n-digit first number, n-digit second number, \n",
    "    and (n+1)-digit result, all simply concatenated together. Because each addition\n",
    "    problem is so structured, there is no need to bother the model with encoding\n",
    "    +, =, or other tokens. Each possible sequence has the same length, and simply\n",
    "    contains the raw digits of the addition problem.\n",
    "    \n",
    "    As a few examples, the 2-digit problems:\n",
    "    - 85 + 50 = 135 becomes the sequence [8, 5, 5, 0, 1, 3, 5]\n",
    "    - 6 + 39 = 45 becomes the sequence [0, 6, 3, 9, 0, 4, 5]\n",
    "    etc.\n",
    "    \n",
    "    We will also only train GPT on the final (n+1)-digits because the first\n",
    "    two n-digits are always assumed to be given. So when we give GPT an exam later,\n",
    "    we will e.g. feed it the sequence [0, 6, 3, 9], which encodes that we'd like\n",
    "    to add 6 + 39, and hope that the model completes the integer sequence with [0, 4, 5]\n",
    "    in 3 sequential steps.\n",
    "    \n",
    "    fun exercise: does it help if the result is asked to be produced in reverse order?\n",
    "    \"\"\"\n",
    "\n",
    "    def __init__(self, split: str, env_name: str =\"DiscreteGridworld-v0\"):\n",
    "        self.env = gym.make(env_name)\n",
    "        self.split = split # train/test\n",
    "        self.vocab_size = 12 # 12 possible... -1 through 10\n",
    "        # TODO: should be env.action_space.shape[0] as well instead of 1\n",
    "        self.block_size = self.env.observation_space.shape[0] * 5 + 5 + 1\n",
    "        \n",
    "        # split up all addition problems into either training data or test data\n",
    "        # Let's start with 50k samples\n",
    "        # num = (10**self.ndigit)**2 # total number of possible combinations\n",
    "        # r = np.random.RandomState(1337) # make deterministic\n",
    "        # perm = r.permutation(num)\n",
    "        # num_test = min(int(num*0.2), 1000) # 20% of the whole dataset, or only up to 1000\n",
    "        # self.ixes = perm[:num_test] if split == 'test' else perm[num_test:]\n",
    "\n",
    "    def __len__(self):\n",
    "        #return self.ixes.size\n",
    "        return 50_000\n",
    "\n",
    "    def __getitem__(self, idx):\n",
    "        obs = self.env.reset()\n",
    "        history = []\n",
    "        for _ in range(5):\n",
    "            history.append(torch.tensor(obs.copy(), dtype=torch.long))\n",
    "            action = env.action_space.sample()\n",
    "            history.append(torch.tensor([action], dtype=torch.long))\n",
    "            obs, _, _, info = env.step(action)\n",
    "        history.append(torch.tensor(info['state'].copy(), dtype=torch.long))\n",
    "        h = torch.cat(([hist for hist in history]))\n",
    "        x = h[:-1]\n",
    "        y = h.clone()[1:]\n",
    "        y[:-2] = -100\n",
    "        return x, y\n",
    "\n",
    "        obs = torch.tensor(self.env.reset(), dtype=torch.long)\n",
    "        action = self.env.action_space.sample()\n",
    "        next_obs, _, _, _ = self.env.step(action)\n",
    "        x = torch.cat((obs, torch.tensor([action, next_obs[0]], dtype=torch.long)))\n",
    "        y = torch.cat((torch.tensor([-100, -100], dtype=torch.long), torch.tensor(next_obs, dtype=torch.long)))\n",
    "        return x, y\n",
    "\n"
   ]
  },
  {
   "cell_type": "code",
   "execution_count": 5,
   "metadata": {},
   "outputs": [],
   "source": [
    "train_dataset = GymDataset(split='train', env_name='DiscreteHorseshoe-v0')\n",
    "test_dataset = GymDataset(split='test', env_name='DiscreteHorseshoe-v0')"
   ]
  },
  {
   "cell_type": "code",
   "execution_count": 6,
   "metadata": {},
   "outputs": [],
   "source": [
    "env = gym.make('DiscreteHorseshoe-v0')"
   ]
  },
  {
   "cell_type": "code",
   "execution_count": 7,
   "metadata": {},
   "outputs": [
    {
     "data": {
      "text/plain": [
       "array([ 4, 10])"
      ]
     },
     "execution_count": 7,
     "metadata": {},
     "output_type": "execute_result"
    }
   ],
   "source": [
    "env.reset()"
   ]
  },
  {
   "cell_type": "code",
   "execution_count": 8,
   "metadata": {},
   "outputs": [
    {
     "data": {
      "text/plain": [
       "(tensor([11, 11,  2,  3, 10,  3,  4, 10,  3,  5, 10,  2,  4, 10,  2,  3]),\n",
       " tensor([-100, -100, -100, -100, -100, -100, -100, -100, -100, -100, -100, -100,\n",
       "         -100, -100,    3,   10]))"
      ]
     },
     "execution_count": 8,
     "metadata": {},
     "output_type": "execute_result"
    }
   ],
   "source": [
    "train_dataset[190] # sample a training instance just to see what one raw example looks like"
   ]
  },
  {
   "cell_type": "code",
   "execution_count": 9,
   "metadata": {},
   "outputs": [
    {
     "name": "stderr",
     "output_type": "stream",
     "text": [
      "01/03/2022 19:29:22 - INFO - mingpt.model -   number of parameters: 4.019200e+05\n"
     ]
    }
   ],
   "source": [
    "from mingpt.model import GPT, GPTConfig, GPT1Config\n",
    "\n",
    "# initialize a baby GPT model\n",
    "mconf = GPTConfig(train_dataset.vocab_size, train_dataset.block_size, \n",
    "                  n_layer=2, n_head=4, n_embd=128)\n",
    "model = GPT(mconf)"
   ]
  },
  {
   "cell_type": "code",
   "execution_count": 10,
   "metadata": {},
   "outputs": [
    {
     "name": "stderr",
     "output_type": "stream",
     "text": [
      "epoch 1 iter 97: train loss 0.35807. lr 5.999909e-04: 100%|██████████| 98/98 [00:03<00:00, 25.78it/s]\n",
      "01/03/2022 19:29:32 - INFO - mingpt.trainer -   test loss: 0.330188\n",
      "epoch 2 iter 97: train loss 0.16266. lr 5.999634e-04: 100%|██████████| 98/98 [00:03<00:00, 25.85it/s]\n",
      "01/03/2022 19:29:40 - INFO - mingpt.trainer -   test loss: 0.156102\n",
      "epoch 3 iter 97: train loss 0.12166. lr 5.999173e-04: 100%|██████████| 98/98 [00:03<00:00, 25.59it/s]\n",
      "01/03/2022 19:29:48 - INFO - mingpt.trainer -   test loss: 0.145461\n",
      "epoch 4 iter 97: train loss 0.13903. lr 5.998527e-04: 100%|██████████| 98/98 [00:03<00:00, 25.41it/s]\n",
      "01/03/2022 19:29:55 - INFO - mingpt.trainer -   test loss: 0.137794\n",
      "epoch 5 iter 97: train loss 0.13420. lr 5.997696e-04: 100%|██████████| 98/98 [00:03<00:00, 26.08it/s]\n",
      "01/03/2022 19:30:03 - INFO - mingpt.trainer -   test loss: 0.127334\n",
      "epoch 6 iter 97: train loss 0.10811. lr 5.996681e-04: 100%|██████████| 98/98 [00:03<00:00, 25.29it/s]\n",
      "01/03/2022 19:30:11 - INFO - mingpt.trainer -   test loss: 0.121294\n",
      "epoch 7 iter 97: train loss 0.13717. lr 5.995480e-04: 100%|██████████| 98/98 [00:03<00:00, 24.92it/s]\n",
      "01/03/2022 19:30:19 - INFO - mingpt.trainer -   test loss: 0.117746\n",
      "epoch 8 iter 97: train loss 0.10177. lr 5.994095e-04: 100%|██████████| 98/98 [00:03<00:00, 25.23it/s]\n",
      "01/03/2022 19:30:27 - INFO - mingpt.trainer -   test loss: 0.113159\n",
      "epoch 9 iter 97: train loss 0.09144. lr 5.992525e-04: 100%|██████████| 98/98 [00:04<00:00, 24.41it/s]\n",
      "01/03/2022 19:30:35 - INFO - mingpt.trainer -   test loss: 0.107141\n",
      "epoch 10 iter 97: train loss 0.09196. lr 5.990770e-04: 100%|██████████| 98/98 [00:03<00:00, 25.60it/s]\n",
      "01/03/2022 19:30:43 - INFO - mingpt.trainer -   test loss: 0.105207\n",
      "epoch 11 iter 97: train loss 0.09151. lr 5.988831e-04: 100%|██████████| 98/98 [00:03<00:00, 25.37it/s]\n",
      "01/03/2022 19:30:51 - INFO - mingpt.trainer -   test loss: 0.096648\n",
      "epoch 12 iter 97: train loss 0.09958. lr 5.986708e-04: 100%|██████████| 98/98 [00:04<00:00, 24.43it/s]\n",
      "01/03/2022 19:30:59 - INFO - mingpt.trainer -   test loss: 0.097788\n",
      "epoch 13 iter 97: train loss 0.08891. lr 5.984400e-04: 100%|██████████| 98/98 [00:03<00:00, 25.43it/s]\n",
      "01/03/2022 19:31:07 - INFO - mingpt.trainer -   test loss: 0.100772\n",
      "epoch 14 iter 97: train loss 0.08318. lr 5.981908e-04: 100%|██████████| 98/98 [00:03<00:00, 25.50it/s]\n",
      "01/03/2022 19:31:15 - INFO - mingpt.trainer -   test loss: 0.096811\n",
      "epoch 15 iter 97: train loss 0.09196. lr 5.979233e-04: 100%|██████████| 98/98 [00:03<00:00, 24.54it/s]\n",
      "01/03/2022 19:31:23 - INFO - mingpt.trainer -   test loss: 0.096509\n",
      "epoch 16 iter 97: train loss 0.08504. lr 5.976373e-04: 100%|██████████| 98/98 [00:03<00:00, 24.89it/s]\n",
      "01/03/2022 19:31:31 - INFO - mingpt.trainer -   test loss: 0.093102\n",
      "epoch 17 iter 97: train loss 0.07826. lr 5.973330e-04: 100%|██████████| 98/98 [00:03<00:00, 25.68it/s]\n",
      "01/03/2022 19:31:39 - INFO - mingpt.trainer -   test loss: 0.087680\n",
      "epoch 18 iter 97: train loss 0.07549. lr 5.970103e-04: 100%|██████████| 98/98 [00:03<00:00, 25.59it/s]\n",
      "01/03/2022 19:31:47 - INFO - mingpt.trainer -   test loss: 0.084984\n",
      "epoch 19 iter 97: train loss 0.10001. lr 5.966694e-04: 100%|██████████| 98/98 [00:03<00:00, 26.11it/s]\n",
      "01/03/2022 19:31:54 - INFO - mingpt.trainer -   test loss: 0.087065\n",
      "epoch 20 iter 97: train loss 0.07673. lr 5.963101e-04: 100%|██████████| 98/98 [00:03<00:00, 24.61it/s]\n",
      "01/03/2022 19:32:02 - INFO - mingpt.trainer -   test loss: 0.084778\n"
     ]
    }
   ],
   "source": [
    "from mingpt.trainer import Trainer, TrainerConfig\n",
    "\n",
    "# initialize a trainer instance and kick off training\n",
    "tconf = TrainerConfig(max_epochs=20, batch_size=512, learning_rate=6e-4,\n",
    "                      lr_decay=True, warmup_tokens=1024, final_tokens=50*len(train_dataset)*(16),\n",
    "                      num_workers=4)\n",
    "trainer = Trainer(model, train_dataset, test_dataset, tconf)\n",
    "trainer.train()"
   ]
  },
  {
   "cell_type": "code",
   "execution_count": 15,
   "metadata": {},
   "outputs": [
    {
     "data": {
      "text/plain": [
       "tensor([[ 6,  6,  3, 11, 11,  3,  8,  6,  2, 11, 11,  1, 11, 11,  2,  6,  5]],\n",
       "       device='cuda:0')"
      ]
     },
     "execution_count": 15,
     "metadata": {},
     "output_type": "execute_result"
    }
   ],
   "source": [
    "from mingpt.utils import sample\n",
    "\n",
    "sample(model, torch.tensor([6, 6, 3, 11, 11, 3, 8, 6, 2, 11, 11, 1, 11, 11, 2], dtype=torch.long, device=trainer.device)[None, ...], 2)"
   ]
  },
  {
   "cell_type": "code",
   "execution_count": 34,
   "metadata": {},
   "outputs": [
    {
     "data": {
      "text/plain": [
       "array([ 0, 10], dtype=uint8)"
      ]
     },
     "execution_count": 34,
     "metadata": {},
     "output_type": "execute_result"
    }
   ],
   "source": [
    "env.reset()"
   ]
  },
  {
   "cell_type": "code",
   "execution_count": 72,
   "metadata": {},
   "outputs": [],
   "source": [
    "env = gym.make('DiscreteHorseshoe-v0')"
   ]
  },
  {
   "cell_type": "code",
   "execution_count": 74,
   "metadata": {},
   "outputs": [
    {
     "data": {
      "text/plain": [
       "(array([5, 9], dtype=uint8),\n",
       " -1.0,\n",
       " False,\n",
       " {'state': array([5, 9], dtype=uint8)})"
      ]
     },
     "execution_count": 74,
     "metadata": {},
     "output_type": "execute_result"
    }
   ],
   "source": [
    "env.step(0)"
   ]
  },
  {
   "cell_type": "code",
   "execution_count": 28,
   "metadata": {},
   "outputs": [
    {
     "data": {
      "text/plain": [
       "torch.Size([3])"
      ]
     },
     "execution_count": 28,
     "metadata": {},
     "output_type": "execute_result"
    }
   ],
   "source": [
    "x = torch.tensor([1, 2, 0], dtype=torch.long, device=trainer.device)\n",
    "x.shape"
   ]
  },
  {
   "cell_type": "code",
   "execution_count": null,
   "metadata": {},
   "outputs": [],
   "source": [
    "# now let's give the trained model an addition exam\n",
    "from torch.utils.data.dataloader import DataLoader\n",
    "from mingpt.utils import sample\n",
    "\n",
    "def give_exam(dataset, batch_size=32, max_batches=-1):\n",
    "    \n",
    "    results = []\n",
    "    loader = DataLoader(dataset, batch_size=batch_size)\n",
    "    for b, (x, y) in enumerate(loader):\n",
    "        x = x.to(trainer.device)\n",
    "        d1d2 = x[:, :ndigit*2]\n",
    "        d1d2d3 = sample(model, d1d2, ndigit+1)\n",
    "        d3 = d1d2d3[:, -(ndigit+1):]\n",
    "        factors = torch.tensor([[10**i for i in range(ndigit+1)][::-1]]).to(trainer.device)\n",
    "        # decode the integers from individual digits\n",
    "        d1i = (d1d2[:,:ndigit] * factors[:,1:]).sum(1)\n",
    "        d2i = (d1d2[:,ndigit:ndigit*2] * factors[:,1:]).sum(1)\n",
    "        d3i_pred = (d3 * factors).sum(1)\n",
    "        d3i_gt = d1i + d2i\n",
    "        correct = (d3i_pred == d3i_gt).cpu() # Software 1.0 vs. Software 2.0 fight RIGHT on this line, lol\n",
    "        for i in range(x.size(0)):\n",
    "            results.append(int(correct[i]))\n",
    "            judge = 'YEP!!!' if correct[i] else 'NOPE'\n",
    "            if not correct[i]:\n",
    "                print(\"GPT claims that %03d + %03d = %03d (gt is %03d; %s)\" \n",
    "                      % (d1i[i], d2i[i], d3i_pred[i], d3i_gt[i], judge))\n",
    "        \n",
    "        if max_batches >= 0 and b+1 >= max_batches:\n",
    "            break\n",
    "\n",
    "    print(\"final score: %d/%d = %.2f%% correct\" % (np.sum(results), len(results), 100*np.mean(results)))"
   ]
  },
  {
   "cell_type": "code",
   "execution_count": null,
   "metadata": {
    "scrolled": true
   },
   "outputs": [],
   "source": [
    "# training set: how well did we memorize?\n",
    "give_exam(train_dataset, batch_size=1024, max_batches=10)"
   ]
  },
  {
   "cell_type": "code",
   "execution_count": null,
   "metadata": {},
   "outputs": [],
   "source": [
    "# test set: how well did we generalize?\n",
    "give_exam(test_dataset, batch_size=1024, max_batches=-1)"
   ]
  },
  {
   "cell_type": "code",
   "execution_count": null,
   "metadata": {},
   "outputs": [],
   "source": [
    "# well that's amusing... our model learned everything except 55 + 45"
   ]
  }
 ],
 "metadata": {
  "kernelspec": {
   "display_name": "Python 3",
   "language": "python",
   "name": "python3"
  },
  "language_info": {
   "codemirror_mode": {
    "name": "ipython",
    "version": 3
   },
   "file_extension": ".py",
   "mimetype": "text/x-python",
   "name": "python",
   "nbconvert_exporter": "python",
   "pygments_lexer": "ipython3",
   "version": "3.8.10"
  }
 },
 "nbformat": 4,
 "nbformat_minor": 4
}
